{
 "cells": [
  {
   "cell_type": "markdown",
   "metadata": {},
   "source": [
    "# This is to scrape the HDB application rates data from various sources"
   ]
  },
  {
   "cell_type": "code",
   "execution_count": 23,
   "metadata": {},
   "outputs": [],
   "source": [
    "# let's import some libraries\n",
    "\n",
    "import pandas as pd\n",
    "from selenium import webdriver\n",
    "from selenium.webdriver.common.keys import Keys\n",
    "from selenium.webdriver.common.by import By\n",
    "from selenium.webdriver.chrome.service import Service\n"
   ]
  },
  {
   "cell_type": "code",
   "execution_count": 24,
   "metadata": {},
   "outputs": [],
   "source": [
    "# Correct path to the ChromeDriver executable\n",
    "service = Service('./chromedriver-win64/chromedriver.exe')  # Update the path if needed\n",
    "driver = webdriver.Chrome(service=service)"
   ]
  },
  {
   "cell_type": "code",
   "execution_count": 25,
   "metadata": {},
   "outputs": [],
   "source": [
    "# Open the Python website\n",
    "driver.get(\"https://www.propertyguru.com.sg/property-guides/bto-application-rate-which-hdb-estate-easiest-62148\")"
   ]
  },
  {
   "cell_type": "code",
   "execution_count": 26,
   "metadata": {},
   "outputs": [],
   "source": [
    "element = driver.find_element(By.XPATH, '//*[@id=\"__next\"]/main/div[1]/div[4]/div[1]/article/div[1]/figure[4]/div')"
   ]
  },
  {
   "cell_type": "code",
   "execution_count": 28,
   "metadata": {},
   "outputs": [],
   "source": [
    "text_body = element.text"
   ]
  },
  {
   "cell_type": "code",
   "execution_count": 20,
   "metadata": {},
   "outputs": [],
   "source": [
    "driver.quit()"
   ]
  },
  {
   "cell_type": "code",
   "execution_count": 30,
   "metadata": {},
   "outputs": [
    {
     "data": {
      "text/plain": [
       "['Project(s) No. of units (3-, 4- and 5-Room) No. of applicants Avg. application rate',\n",
       " 'Canberra Vista (Sembawang, Non-mature) 3-room: 124',\n",
       " '',\n",
       " '4-room: 385',\n",
       " '',\n",
       " '5-room/ 3Gen: 266',\n",
       " '',\n",
       " '',\n",
       " '',\n",
       " 'Total rooms:775',\n",
       " '3-room: 847',\n",
       " '4-room: 3,048',\n",
       " '5-room/ 3Gen: 3,738',\n",
       " '= 7,633',\n",
       " '3-room: 6.8',\n",
       " '4-room: 7.9',\n",
       " '5-room/ 3Gen: 14.1',\n",
       " '= 9.8',\n",
       " 'Toa Payoh Ridge / Kim Keat Ripples (Toa Payoh, Mature)',\n",
       " '3-room: 102',\n",
       " '4-room: 1,211',\n",
       " '= 1,313',\n",
       " '3-room: 935',\n",
       " '4-room: 11,684',\n",
       " '= 12,619',\n",
       " '3-room: 9.2',\n",
       " '4-room: 9.6',\n",
       " '= 9.6']"
      ]
     },
     "execution_count": 30,
     "metadata": {},
     "output_type": "execute_result"
    }
   ],
   "source": [
    "text_body.split('\\n')\n",
    "# Split the text into lines"
   ]
  },
  {
   "cell_type": "code",
   "execution_count": 69,
   "metadata": {},
   "outputs": [],
   "source": [
    "def extract_data(text):\n",
    "    \"\"\"\n",
    "    This function extracts the number of rooms from the given text.\n",
    "    Args:\n",
    "        text (str): The input text containing information about rooms.\n",
    "    Returns:\n",
    "        int: The number of rooms extracted from the text. And the number of applications.\n",
    "    If no valid room number is found, it returns 0.\n",
    "    \"\"\"\n",
    "    # Split the text into words\n",
    "    words = text.split()\n",
    "    num_rm = ''\n",
    "\n",
    "    for word in words:\n",
    "        # Check if the word contains '-room' and extract the number\n",
    "        if '-room' in word:\n",
    "            try:\n",
    "                num_rm = (word.split('-')[0].strip())\n",
    "            except ValueError:\n",
    "                # If the number cannot be converted, skip this word\n",
    "                continue\n",
    "        \n",
    "        if num_rm.isdigit() and word.isdigit():\n",
    "            # Return the number of rooms as an integer\n",
    "            return int(num_rm), int(word)\n",
    "\n",
    "    # Return 0 if no valid room number is found\n",
    "    return 0,0\n",
    "\n",
    "def extract_relevant(text_body_ls):\n",
    "\n",
    "    project_dict = {}\n",
    "    project_details = retrieve_project_details(text_body_ls)\n",
    "\n",
    "    for i in text_body_ls:\n",
    "        if i == '':\n",
    "            continue\n",
    "        num_rm, number = extract_data(i)\n",
    "        if num_rm not in project_dict:\n",
    "            project_dict[num_rm] = [number]\n",
    "        elif len(project_dict[num_rm]) > 2:\n",
    "            return project_details,project_dict\n",
    "        else:\n",
    "            # Append the number to the list for the corresponding number of rooms\n",
    "            project_dict[num_rm].append(number)\n",
    "\n"
   ]
  },
  {
   "cell_type": "code",
   "execution_count": null,
   "metadata": {},
   "outputs": [
    {
     "data": {
      "text/plain": [
       "(3, 12619)"
      ]
     },
     "execution_count": 51,
     "metadata": {},
     "output_type": "execute_result"
    }
   ],
   "source": []
  },
  {
   "cell_type": "code",
   "execution_count": 46,
   "metadata": {},
   "outputs": [
    {
     "name": "stdout",
     "output_type": "stream",
     "text": [
      "['Project(s) No. of units (3-, 4- and 5-Room) No. of applicants Avg. application rate']\n",
      "['Canberra Vista (Sembawang, Non-mature) 3-room: 124', '', '4-room: 385', '', '5-room/ 3Gen: 266', '', '', '', 'Total rooms:775', '3-room: 847', '4-room: 3,048', '5-room/ 3Gen: 3,738', '= 7,633', '3-room: 6.8', '4-room: 7.9', '5-room/ 3Gen: 14.1', '= 9.8']\n",
      "['Toa Payoh Ridge / Kim Keat Ripples (Toa Payoh, Mature)', '3-room: 102', '4-room: 1,211', '= 1,313', '3-room: 935', '4-room: 11,684', '= 12,619', '3-room: 9.2', '4-room: 9.6', '= 9.6']\n"
     ]
    },
    {
     "ename": "TypeError",
     "evalue": "retrieve_project_details() missing 1 required positional argument: 'text_ls'",
     "output_type": "error",
     "traceback": [
      "\u001b[1;31m---------------------------------------------------------------------------\u001b[0m",
      "\u001b[1;31mTypeError\u001b[0m                                 Traceback (most recent call last)",
      "\u001b[1;32m~\\AppData\\Local\\Temp\\ipykernel_12980\\3056274237.py\u001b[0m in \u001b[0;36m<module>\u001b[1;34m\u001b[0m\n\u001b[0;32m     40\u001b[0m             \u001b[1;32mreturn\u001b[0m \u001b[0mname\u001b[0m\u001b[1;33m,\u001b[0m \u001b[0mdetails\u001b[0m\u001b[1;33m\u001b[0m\u001b[1;33m\u001b[0m\u001b[0m\n\u001b[0;32m     41\u001b[0m \u001b[1;33m\u001b[0m\u001b[0m\n\u001b[1;32m---> 42\u001b[1;33m \u001b[0mretrieve_project_details\u001b[0m\u001b[1;33m(\u001b[0m\u001b[1;33m)\u001b[0m\u001b[1;33m\u001b[0m\u001b[1;33m\u001b[0m\u001b[0m\n\u001b[0m",
      "\u001b[1;31mTypeError\u001b[0m: retrieve_project_details() missing 1 required positional argument: 'text_ls'"
     ]
    }
   ],
   "source": [
    "def separate_by_mature(text_body_ls):\n",
    "    \"\"\"\n",
    "    Separates items in the list into groups based on occurrences of 'Mature'.\n",
    "    Args:\n",
    "        text_body_ls (list): List of strings to process.\n",
    "    Returns:\n",
    "        list: A list of groups, where each group is a list of items between 'Mature' occurrences.\n",
    "    \"\"\"\n",
    "    groups = []\n",
    "    current_group = []\n",
    "\n",
    "    for item in text_body_ls:\n",
    "        # Check if the item contains 'Mature'\n",
    "        if 'Mature' in item or 'Non-mature' in item:\n",
    "            # If there's an existing group, add it to the groups list\n",
    "            if current_group:\n",
    "                groups.append(current_group)\n",
    "                current_group = []\n",
    "        # Add the current item to the current group\n",
    "        current_group.append(item)\n",
    "\n",
    "    # Add the last group if it exists\n",
    "    if current_group:\n",
    "        groups.append(current_group)\n",
    "\n",
    "    return groups\n",
    "\n",
    "\n",
    "result = separate_by_mature(text_body.split('\\n'))\n",
    "for group in result:\n",
    "    print(group)\n",
    "\n",
    "def retrieve_project_details(text_ls):\n",
    "\n",
    "    for i in text_ls:\n",
    "        if 'Mature' in i or 'Non-mature' in i:\n",
    "            name = i.split('(')[0].strip()\n",
    "            details = i.split('(')[1].split(')')[0].strip()\n",
    "            details = details.split(',')\n",
    "            return name, details\n",
    "\n",
    "retrieve_project_details()"
   ]
  },
  {
   "cell_type": "code",
   "execution_count": 42,
   "metadata": {},
   "outputs": [],
   "source": [
    "result = separate_by_mature(text_body.split('\\n'))"
   ]
  },
  {
   "cell_type": "code",
   "execution_count": 56,
   "metadata": {},
   "outputs": [
    {
     "data": {
      "text/plain": [
       "['Canberra Vista (Sembawang, Non-mature) 3-room: 124',\n",
       " '',\n",
       " '4-room: 385',\n",
       " '',\n",
       " '5-room/ 3Gen: 266',\n",
       " '',\n",
       " '',\n",
       " '',\n",
       " 'Total rooms:775',\n",
       " '3-room: 847',\n",
       " '4-room: 3,048',\n",
       " '5-room/ 3Gen: 3,738',\n",
       " '= 7,633',\n",
       " '3-room: 6.8',\n",
       " '4-room: 7.9',\n",
       " '5-room/ 3Gen: 14.1',\n",
       " '= 9.8']"
      ]
     },
     "execution_count": 56,
     "metadata": {},
     "output_type": "execute_result"
    }
   ],
   "source": [
    "result[1]"
   ]
  },
  {
   "cell_type": "code",
   "execution_count": null,
   "metadata": {},
   "outputs": [
    {
     "data": {
      "text/plain": [
       "(3, 124)"
      ]
     },
     "execution_count": 62,
     "metadata": {},
     "output_type": "execute_result"
    }
   ],
   "source": [
    "\n",
    "\n",
    "extract_data(result[1][0])"
   ]
  },
  {
   "cell_type": "code",
   "execution_count": 60,
   "metadata": {},
   "outputs": [
    {
     "data": {
      "text/plain": [
       "['Canberra', 'Vista', '(Sembawang,', 'Non-mature)', '3-room:', '124']"
      ]
     },
     "execution_count": 60,
     "metadata": {},
     "output_type": "execute_result"
    }
   ],
   "source": [
    "result[1][0].split()"
   ]
  },
  {
   "cell_type": "code",
   "execution_count": 70,
   "metadata": {},
   "outputs": [
    {
     "data": {
      "text/plain": [
       "(('Canberra Vista', ['Sembawang', ' Non-mature']),\n",
       " {3: [124, 847], 4: [385], 5: [266], 0: [0, 0, 0]})"
      ]
     },
     "execution_count": 70,
     "metadata": {},
     "output_type": "execute_result"
    }
   ],
   "source": [
    "extract_relevant(result[1])"
   ]
  },
  {
   "cell_type": "code",
   "execution_count": null,
   "metadata": {},
   "outputs": [],
   "source": []
  }
 ],
 "metadata": {
  "kernelspec": {
   "display_name": "base",
   "language": "python",
   "name": "python3"
  },
  "language_info": {
   "codemirror_mode": {
    "name": "ipython",
    "version": 3
   },
   "file_extension": ".py",
   "mimetype": "text/x-python",
   "name": "python",
   "nbconvert_exporter": "python",
   "pygments_lexer": "ipython3",
   "version": "3.9.13"
  }
 },
 "nbformat": 4,
 "nbformat_minor": 2
}
