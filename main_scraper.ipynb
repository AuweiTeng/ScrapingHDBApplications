{
 "cells": [
  {
   "cell_type": "markdown",
   "metadata": {},
   "source": [
    "# This is to scrape the HDB application rates data from various sources"
   ]
  },
  {
   "cell_type": "code",
   "execution_count": 12,
   "metadata": {},
   "outputs": [],
   "source": [
    "# let's import some libraries\n",
    "\n",
    "import pandas as pd\n",
    "from selenium import webdriver\n",
    "from selenium.webdriver.common.keys import Keys\n",
    "from selenium.webdriver.common.by import By\n",
    "from selenium.webdriver.chrome.service import Service\n"
   ]
  },
  {
   "cell_type": "code",
   "execution_count": null,
   "metadata": {},
   "outputs": [],
   "source": [
    "# Correct path to the ChromeDriver executable\n",
    "service = Service('./chromedriver-win64/chromedriver.exe')  # Update the path if needed\n",
    "driver = webdriver.Chrome(service=service)"
   ]
  },
  {
   "cell_type": "code",
   "execution_count": 10,
   "metadata": {},
   "outputs": [],
   "source": [
    "# Open the Python website\n",
    "driver.get(\"https://www.propertyguru.com.sg/property-guides/bto-application-rate-which-hdb-estate-easiest-62148\")"
   ]
  },
  {
   "cell_type": "code",
   "execution_count": 17,
   "metadata": {},
   "outputs": [],
   "source": [
    "element = driver.find_element(By.XPATH, '//*[@id=\"__next\"]/main/div[1]/div[4]/div[1]/article/div[1]/figure[4]/div')"
   ]
  },
  {
   "cell_type": "code",
   "execution_count": 19,
   "metadata": {},
   "outputs": [
    {
     "name": "stdout",
     "output_type": "stream",
     "text": [
      "Canberra Vista (Sembawang, Non-mature)\n",
      "No. of units (3-, 4- and 5-Room)3-room: 124\n",
      "\n",
      "4-room: 385\n",
      "\n",
      "5-room/ 3Gen: 266\n",
      "\n",
      "\n",
      "\n",
      "Total rooms:775\n",
      "No. of applicants\n",
      "3-room: 847\n",
      "4-room: 3,048\n",
      "5-room/ 3Gen: 3,738\n",
      "= 7,633\n",
      "Avg. application rate\n",
      "3-room: 6.8\n",
      "4-room: 7.9\n",
      "5-room/ 3Gen: 14.1\n",
      "= 9.8\n",
      "Toa Payoh Ridge / Kim Keat Ripples (Toa Payoh, Mature)\n",
      "No. of units (3-, 4- and 5-Room)\n",
      "3-room: 102\n",
      "4-room: 1,211\n",
      "= 1,313\n",
      "No. of applicants\n",
      "3-room: 935\n",
      "4-room: 11,684\n",
      "= 12,619\n",
      "Avg. application rate\n",
      "3-room: 9.2\n",
      "4-room: 9.6\n",
      "= 9.6\n"
     ]
    }
   ],
   "source": [
    "print(element.text)"
   ]
  },
  {
   "cell_type": "code",
   "execution_count": null,
   "metadata": {},
   "outputs": [],
   "source": []
  }
 ],
 "metadata": {
  "kernelspec": {
   "display_name": "base",
   "language": "python",
   "name": "python3"
  },
  "language_info": {
   "codemirror_mode": {
    "name": "ipython",
    "version": 3
   },
   "file_extension": ".py",
   "mimetype": "text/x-python",
   "name": "python",
   "nbconvert_exporter": "python",
   "pygments_lexer": "ipython3",
   "version": "3.9.13"
  }
 },
 "nbformat": 4,
 "nbformat_minor": 2
}
