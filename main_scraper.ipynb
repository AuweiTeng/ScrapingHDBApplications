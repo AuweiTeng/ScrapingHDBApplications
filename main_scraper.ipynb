{
 "cells": [
  {
   "cell_type": "markdown",
   "metadata": {},
   "source": [
    "# This is to scrape the HDB application rates data from various sources"
   ]
  },
  {
   "cell_type": "code",
   "execution_count": 111,
   "metadata": {},
   "outputs": [],
   "source": [
    "# let's import some libraries\n",
    "\n",
    "import pandas as pd\n",
    "from selenium import webdriver\n",
    "from selenium.webdriver.common.keys import Keys\n",
    "from selenium.webdriver.common.by import By\n",
    "from selenium.webdriver.chrome.service import Service\n"
   ]
  },
  {
   "cell_type": "code",
   "execution_count": 114,
   "metadata": {},
   "outputs": [],
   "source": [
    "# Correct path to the ChromeDriver executable\n",
    "service = Service('./chromedriver-win64/chromedriver.exe')  # Update the path if needed\n",
    "driver = webdriver.Chrome(service=service)"
   ]
  },
  {
   "cell_type": "code",
   "execution_count": 115,
   "metadata": {},
   "outputs": [],
   "source": [
    "# Open the Python website\n",
    "driver.get(\"https://www.propertyguru.com.sg/property-guides/bto-application-rate-which-hdb-estate-easiest-62148\")"
   ]
  },
  {
   "cell_type": "code",
   "execution_count": 206,
   "metadata": {},
   "outputs": [],
   "source": [
    "def extract_data(text):\n",
    "    \"\"\"\n",
    "    This function extracts the number of rooms from the given text.\n",
    "    Args:\n",
    "        text (str): The input text containing information about rooms.\n",
    "    Returns:\n",
    "        int: The number of rooms extracted from the text. And the number of applications.\n",
    "    If no valid room number is found, it returns 0.\n",
    "    \"\"\"\n",
    "\n",
    "    text = text.replace(')',' ').replace('s',' ').replace('e',' ').replace(' room','-room')\n",
    "    # Split the text into words\n",
    "    words = text.split()\n",
    "    num_rm = ''\n",
    "\n",
    "    for word in words:\n",
    "        # Check if the word contains '-room' and extract the number\n",
    "        if '-ro' in word:\n",
    "            try:\n",
    "                num_rm = (word.split('-')[0].strip())\n",
    "            except ValueError:\n",
    "                # If the number cannot be converted, skip this word\n",
    "                continue\n",
    "        \n",
    "        if num_rm.isdigit() and word.replace(',', '').isdigit():\n",
    "            # Return the number of rooms as an integer\n",
    "            return int(num_rm), int(word.replace(',', ''))\n",
    "\n",
    "    # Return 0 if no valid room number is found\n",
    "    return 0,0\n",
    "\n",
    "def extract_relevant(text_body_ls):\n",
    "\n",
    "    project_dict = {}\n",
    "    project_details = retrieve_project_details(text_body_ls)\n",
    "\n",
    "    for i in text_body_ls:\n",
    "        if i == '':\n",
    "            continue\n",
    "        num_rm, number = extract_data(i)\n",
    "        if num_rm == 0 or number == 0:\n",
    "            continue\n",
    "        if num_rm not in project_dict:\n",
    "            project_dict[num_rm] = [number]\n",
    "        elif len(project_dict[num_rm]) > 2:\n",
    "            return project_details,project_dict\n",
    "            \n",
    "        else:\n",
    "            # Append the number to the list for the corresponding number of rooms\n",
    "            project_dict[num_rm].append(number)\n",
    "    \n",
    "    return project_details,project_dict\n",
    "        \n",
    "    \n",
    "def separate_by_mature(text_body_ls):\n",
    "    \"\"\"\n",
    "    Separates items in the list into groups based on occurrences of 'Mature'.\n",
    "    Args:\n",
    "        text_body_ls (list): List of strings to process.\n",
    "    Returns:\n",
    "        list: A list of groups, where each group is a list of items between 'Mature' occurrences.\n",
    "    \"\"\"\n",
    "    groups = []\n",
    "    current_group = []\n",
    "\n",
    "    for item in text_body_ls:\n",
    "        # Check if the item contains 'Mature'\n",
    "        if 'Mature' in item or 'Non-mature' in item or 'mature' in item or 'non-mature' in item:\n",
    "            # If there's an existing group, add it to the groups list\n",
    "            if current_group:\n",
    "                groups.append(current_group)\n",
    "                current_group = []\n",
    "        # Add the current item to the current group\n",
    "        current_group.append(item)\n",
    "\n",
    "    # Add the last group if it exists\n",
    "    if current_group:\n",
    "        groups.append(current_group)\n",
    "\n",
    "    return groups\n",
    "\n",
    "def retrieve_project_details(text_ls):\n",
    "\n",
    "    for i in text_ls:\n",
    "        if 'Mature' in i or 'Non-mature' in i or 'mature' in i or 'non-mature' in i:\n",
    "            name = i.split('(')[0].strip()\n",
    "            details = i.split('(')[1].split(')')[0].strip()\n",
    "            details = details.split(',')\n",
    "            return name, details\n"
   ]
  },
  {
   "cell_type": "code",
   "execution_count": 207,
   "metadata": {},
   "outputs": [
    {
     "data": {
      "text/html": [
       "<div>\n",
       "<style scoped>\n",
       "    .dataframe tbody tr th:only-of-type {\n",
       "        vertical-align: middle;\n",
       "    }\n",
       "\n",
       "    .dataframe tbody tr th {\n",
       "        vertical-align: top;\n",
       "    }\n",
       "\n",
       "    .dataframe thead th {\n",
       "        text-align: right;\n",
       "    }\n",
       "</style>\n",
       "<table border=\"1\" class=\"dataframe\">\n",
       "  <thead>\n",
       "    <tr style=\"text-align: right;\">\n",
       "      <th></th>\n",
       "      <th>Project</th>\n",
       "      <th>Town</th>\n",
       "      <th>Category</th>\n",
       "      <th>Number of Rooms</th>\n",
       "      <th>Num of Units</th>\n",
       "      <th>Number of Applications</th>\n",
       "    </tr>\n",
       "  </thead>\n",
       "  <tbody>\n",
       "  </tbody>\n",
       "</table>\n",
       "</div>"
      ],
      "text/plain": [
       "Empty DataFrame\n",
       "Columns: [Project, Town, Category, Number of Rooms, Num of Units, Number of Applications]\n",
       "Index: []"
      ]
     },
     "execution_count": 207,
     "metadata": {},
     "output_type": "execute_result"
    }
   ],
   "source": [
    "df = pd.DataFrame()\n",
    "\n",
    "df['Project'] = '' #to input project name\n",
    "df['Town'] = '' #to input town\n",
    "df['Category'] = '' #to input mature/non-mature\n",
    "df['Number of Rooms'] = 0 #to input number of rooms\n",
    "df['Num of Units'] = 0 #to input number of units\n",
    "df['Number of Applications'] = 0 #to input number of applications\n",
    "\n",
    "df"
   ]
  },
  {
   "cell_type": "code",
   "execution_count": 208,
   "metadata": {},
   "outputs": [
    {
     "name": "stdout",
     "output_type": "stream",
     "text": [
      "4 [['Canberra Vista (Sembawang, Non-mature)', 'No. of units (3-, 4- and 5-Room)3-room: 124', '', '4-room: 385', '', '5-room/ 3Gen: 266', '', '', '', 'Total rooms:775', 'No. of applicants', '3-room: 847', '4-room: 3,048', '5-room/ 3Gen: 3,738', '= 7,633', 'Avg. application rate', '3-room: 6.8', '4-room: 7.9', '5-room/ 3Gen: 14.1', '= 9.8'], ['Toa Payoh Ridge / Kim Keat Ripples (Toa Payoh, Mature)', 'No. of units (3-, 4- and 5-Room)', '3-room: 102', '4-room: 1,211', '= 1,313', 'No. of applicants', '3-room: 935', '4-room: 11,684', '= 12,619', 'Avg. application rate', '3-room: 9.2', '4-room: 9.6', '= 9.6']]\n",
      "5 [['Keat Hong Verge (Choa Chu Kang, Non-mature)', 'No. of units (3-, 4- and 5-Room)', '3-room: 118', '4-room: 290', '= 408', 'No. of applicants', '3-room: 263', '4-rom: 683', '= 946', 'Avg. application rate', '3-room: 2.2', '4-room: 2.4', '= 2.3'], ['Parc Residences @ Tengah (Non-mature)', 'No. of units (3-, 4- and 5-Room)', '3-room: 99', '4-room: 281', '5-room: 184', '= 564', 'No. of applicants', '3-room: 363', '4-room: 1,436', '5-room: 1,284', '= 3,083', 'Avg. application rate', '3-room: 3.7', '4-room: 5.1', '5-room: 7.0', '= 5.5'], ['UrbanVille @ Woodlands / Champions Bliss (Non-mature)', 'No. of units (3-, 4- and 5-Room)', '3-room: 144', '4-room: 706', '5-room: 438', '= 1,288', 'No. of applicants', '3-room: 896', '4-room: 4,125', '5-room: 4,297', '= 9,318', 'Avg. application rate', '3-room: 6.2', '4-room: 5.8', '5-room: 9.8', '= 7.2'], ['Kebun Baru Edge (Ang Mo Kio, Mature)', 'No. of units (3-, 4- and 5-Room)', '4-room: 240', '5-room: 140', '= 380', 'No. of applicants', '4-room: 2,568', '5-room: 3,006', '= 5,574', 'Avg. application rate', '4-room: 10.7', '5-room: 21.5', '= 14.7'], ['Bishan Towers (Bishan, Mature)', 'No. of units (3-, 4- and 5-Room)', '3-room: 80', '4-room: 272', '= 352', 'No. of applicants', '3-room: 319', '4-room: 1,689', '= 2,008', 'Avg. application rate', '3-room: 4.0', '4-room: 6.2', '= 5.7'], ['Dakota One (Geylang, Mature)', 'No. of units (3-, 4- and 5-Room)', '3-room: 87', '4-room: 334', '= 414', 'No. of applicants', '3-room: 787', '4-room: 6,394', '= 7,181', 'Avg. application rate', '3-room: 9.0', '4-room: 19.1', '= 17.3'], ['Costa Grove (Pasir Ris, Mature)', 'No. of units (3-, 4- and 5-Room)', '3-room: 160', '4-room: 373', '5-room: 325', '= 858', 'No. of applicants', '3-room: 436', '4-room: 1,771', '5-room: 2,369', '= 4,576', 'Avg. application rate', '3-room: 2.7', '4-room: 4.7', '5-room: 7.3', '= 5.3'], ['Tampines GreenCrest / Tampines GreenOpal / Tampines GreenGlade (Tampines, Mature)', 'No. of units (3-, 4- and 5-Room)', '3-room: 182', '4-room: 871', '5-room: 717', '= 1,770', 'No. of applicants', '3-room: 486', '4-room: 1,864', '5-room: 1,402', '= 3,752', 'Avg. application rate', '3-room: 2.7', '4-room: 2.1', '5-room: 2.0', '= 2.1']]\n",
      "6 [['Sun Sails (Sembawang, Non-mature)', 'No. of units (3-, 4- and 5-Room)', '3-room: 84', '4-room: 238', '5-room: 184', '= 506', 'No. of applicants', '3-room: 359', '4-room: 964', '5-room: 1,060', '= 2,383', 'Avg. application rate', '3-room: 4.3', '4-room: 4.1', '5-room: 5.8', '= 4.7'], ['Garden Court @ Tengah / Garden Terrace @ Tengah (Non-mature)', 'No. of units (3-, 4- and 5-Room)', '3-room: 218', '4-room: 570', '5-room: 327', '= 1,115', 'No. of applicants', '3-room: 277', '4-room: 1,495', '5-room: 1,343', '= 3,115', 'Avg. application rate', '3-room: 1.3', '4-room: 2.6', '5-room: 4.1', '= 2.8'], ['Bishan Ridges (Bishan, Mature)', 'No. of units (3-, 4- and 5-Room)', '3-room: 124', '4-room: 1,222', '= 1,346', 'No. of applicants', '3-room: 822', '4-room: 8,635', '= 9,457', 'Avg. application rate', '3-room: 6.6', '4-room: 7.1', '= 7.0'], ['Tampines GreenEmerald (Tampines, Mature)', 'No. of units (3-, 4- and 5-Room)', '4-room: 360', '5-room: 244', '= 604', 'No. of applicants', '4-room: 1,441', '5-room: 1,126', '= 2,567', 'Avg. application rate', '4-room: 4.0', '5-room: 4.6', '= 4.3'], ['Bartley Beacon / ParkView @ Bidadari (Toa Payoh, Mature)', 'No. of units (3-, 4- and 5-Room)', '3-room: 184', '4-room: 910', '5-room: 144', '= 1,238', 'No. of applicants', '3-room: 401', '4-room: 3,598', '5-room: 2,170', '= 6,169', 'Avg. application rate', '3-room: 2.2', '4-room: 4.0', '5-room: 15.1', '= 5.0']]\n",
      "7 [['West Hill @ Bukit Batok (Bukit Batok, Non-mature)', 'No. of units (3-, 4- and 5-Room)', '3-room: 81', '4-room: 387', '5-room: 331', '= 799', 'No. of applicants', '3-room: 212', '4-room: 615', '5-room: 666', '= 1,493', 'Avg. application rate', '3-room: 2.6', '4-room: 1.6', '5-room: 2.0', '= 1.9'], ['Parc Woods @ Tengah (Non-mature)', 'No. of units (3-, 4- and 5-Room)', '3-room: 83', '4-room: 387', '= 470', 'No. of applicants', '3-room: 198', '4-room: 1,294', '= 1,492', 'Avg. application rate', '3-room: 2.4', '4-room: 3.3', '= 3.2'], ['McNair Heights (Kallang/ Whampoa, Mature)', 'No. of units (3-, 4- and 5-Room)', '3-room: 104', '4-room: 386', '= 490', 'No. of applicants', '3-room: 413', '4-room: 2,869', '= 3,282', 'Avg. application rate', '3-room: 4.0', '4-room: 7.4', '= 6.7'], ['Bartley GreenRise / ParkEdge @ Bidadari / Alkaff Breeze (Toa Payoh, Mature)', 'No. of units (3-, 4- and 5-Room)', '3-room: 96', '4-room: 797', '5-room: 323', '= 1,216', 'No. of applicants', '3-room: 462', '4-room: 4,667', '5-room: 3,193', '= 8,322', 'Avg. application rate', '3-room: 4.8', '4-room: 5.9', '5-room: 9.9', '= 6.8']]\n",
      "8 [['Garden Bloom @ Tengah (Non-mature)', 'No. of Units (3-, 4- and 5-Room)', '4-room: 265', '5-room: 251', '= 516', 'No. of Applicants (Non-Elderly)', '4-room: 1,023', '5-room: 1,168', '= 2,191', 'Avg. Application Rate (Non-Elderly)', '4-room: 3.9', '5-room: 4.7', '= 4.2'], ['Woodgrove Ascent (Woodlands, Non-mature)', 'No. of Units (3-, 4- and 5-Room)', '3-room: 84', '4-room: 411', '5-room: 359', '= 854', 'No. of Applicants (Non-Elderly)', '3-room: 451', '4-room: 1,794', '5-room: 1,990', '= 4,235', 'Avg. Application Rate (Non-Elderly)', '3-room: 5.4', '4-room: 4.4', '5-room: 5.5', '= 5.0'], ['Telok Blangah Beacon (Bukit Merah, Mature)', 'No. of Units (3-, 4- and 5-Room)', '3-room: 105', '4-room: 70', '= 175', 'No. of Applicants (Non-Elderly)', '3-room: 604', '4-room: 3,474', '= 4,078', 'Avg. Application Rate (Non-Elderly)', '3-room: 5.8', '4-room: 49.6', '= 23.3'], ['MacPherson Weave (Geylang, Mature)', 'No. of Units (3-, 4- and 5-Room)', '3-room: 156', '4-room: 1,010', '= 1,166', 'No. of Applicants (Non-Elderly)', '3-room: 569', '4-room: 5,595', '= 6,164', 'Avg. Application Rate (Non-Elderly)', '3-room: 3.6', '4-room: 5.5', '= 5.3']]\n",
      "9 [['Hougang Citrine / Kovan Wellspring (Hougang, Non-mature)', 'No. of units (3-, 4- and 5-Room)', '3-room: 178', '4-room: 459', '5-room: 102', '= 739', 'No. of applicants', '3-room: 1,986', '4-room: 11,420', '5-room: 1,085', '= 14,491', 'Avg. application rate', '3-room: 11.2', '4-room: 24.9', '5-room: 10.6', '= 19.6'], ['Toh Guan Grove (Jurong East, Non-mature)', 'No. of units (3-, 4- and 5-Room)', '3-room: 85', '4-room: 240', '= 325', 'No. of applicants', '3-room: 520', '4-room: 3,628', '= 4,148', 'Avg. application rate', '3-room: 6.1', '4-room: 15.1', '= 12.8'], ['Towner Residences (Kallang/Whampoa, Mature)', 'No. of units (3-, 4- and 5-Room)', '3-room: 90', '4-room: 226', '= 316', 'No. of applicants', '3-room: 265', '4-room: 1,928', '= 2,193', 'Avg. application rate', '3-room: 2.9', '4-room: 8.5', '= 6.9'], ['Queen’s Arc (Queenstown, Mature)', 'No. of units (3-, 4- and 5-Room)', '3-room: 76', '4-room: 534', '= 610', 'No. of applicants', '3-room: 354', '4-room: 4,099', '= 4,453', 'Avg. application rate', '3-room: 4.7', '4-room: 7.7', '= 7.3'], ['Tampines GreenQuartz / Tampines GreenJade (Tampines, Mature)', 'No. of units (3-, 4- and 5-Room)', '3-room: 87', '4-room: 989', '5-room: 881', '= 1,957', 'No. of applicants', '3-room: 627', '4-room: 3,443', '5-room: 4,255', '= 8,325', 'Avg. application rate', '3-room: 7.2', '4-room: 3.5', '5-room: 4.8', '= 4.3']]\n",
      "10 [['Tanjong Tree Residences @ Hougang / Hougang Olive (Non-mature)', 'No. of units (3-, 4- and 5-Room)', '4-room: 378', '5-room: 312', '= 690', 'No. of applicants', '4-room: 1,643', '5-room: 1,852', '= 3,495', 'Avg. application rate', '4-room: 4.3', '5-room: 5.9', '= 5.1'], ['Nanyang Opal (Jurong West, Non-mature)', 'No. of units (3-, 4- and 5-Room)', '3-room: 91', '4-room: 130', '= 221', 'No. of applicants', '3-room: 87', '4-room: 229', '= 316', 'Avg. application rate', '3-room: 1.0', '4-room: 1.8', '= 1.4'], ['Parc Glen @ Tengah / Parc Clover @ Tengah (Non-mature)', 'No. of units (3-, 4- and 5-Room)', '3-room: 198', '4-room: 872', '5-room: 653', '= 1,723', 'No. of applicants', '3-room: 366', '4-room: 1,863', '5-room: 2,120', '= 4,349', 'Avg. application rate', '3-room: 1.8', '4-room: 2.1', '5-room: 3.2', '= 2.5', 'River Peaks I / River Peaks II (Central)', 'No. of units (3-, 4- and 5-Room)', '3-room: 280', '4-room: 680', '= 960', 'No. of applicants', '3-room: 867', '4-room: 6976', '= 7,843', 'Avg. application rate', '3-room: 3.1', '4-room: 10.3', '= 8.2'], ['Kent Heights (Kallang/Whampoa, Mature)', 'No. of units (3-, 4- and 5-Room)4-room: 276', 'No. of applicants4-room: 1,813', 'Avg. application rate4-room: 6.6']]\n",
      "11 [['Parc Flora @ Tengah / Plantation Creek (Non-mature)', 'No. of units (3-, 4- and 5-Room)', '3-room: 85', '4-room: 570', '5-room: 517', '= 1,172', 'No. of applicants', '3-room: 362', '4-room: 1,813', '5-room: 2,406', '= 4,581', 'Avg. application rate', '3-room: 4.3', '4-room: 3.2', '5-room: 4.7', '= 3.9'], ['Yishun Boardwalk / Grove Spring @ Yishun (Non-mature)', 'No. of units (3-, 4- and 5-Room)', '3-room: 162', '4-room: 686', '5-room: 613', '= 1,461', 'No. of applicants', '3-room: 808', '4-room: 2,187', '5-room: 2,018', '= 5,013', 'Avg. application rate', '3-room: 5.0', '4-room: 3.2', '5-room: 3.3', '= 3.4'], ['Dakota Crest (Geylang, Mature)', 'No. of units (3-, 4- and 5-Room)', '3-room: 80', '4-room: 242', '= 322', 'No. of applicants', '3-room: 833', '4-room: 6,961', '= 7,794', 'Avg. application rate', '3-room: 10.4', '4-room: 28.8', '= 24.2'], ['King George’s Heights (Kallang/Whampoa, Mature)', 'No. of units (3-, 4- and 5-Room)', '3-room: 104', '4-room: 294', '= 398', 'No. of applicants', '3-room: 661', '4-room: 5,140', '= 5,801', 'Avg. application rate', '3-room: 6.4', '4-room: 17.5', '= 14.6']]\n",
      "12 [['Lakeside View (Jurong West, Non-mature', 'No. of units (3-, 4- and 5-Room)', '3-room: 101', '4 room: 246', '5-room: 214', '= 561', 'No. of applicants', '3-room: 446', '4-room: 1,827', '5 room: 3,294', '= 5,567', 'Avg. application rate', '3-room: 4.4', '4-room: 7.4', '5-room: 15.4', '= 9.9'], ['Yishun Beacon (Yishun, Non-mature)', 'No. of units (3-, 4- and 5-Room)', '4-room: 207', '5-room: 166', '= 373', 'No. of applicants', '4-room: 2,525', '5-room: 2,491', '= 5,016', 'Avg. application rate', '4-room: 12.2', '5-room: 15.0', '= 13.4'], ['Bukit Merah Ridge (Bukit Merah, Mature)', 'No. of units (3-, 4- and 5-Room)', '3-room: 443', '4-room: 1,226', '= 1,669', 'No. of applicants', '3-room: 723', '4-room: 6,560', '= 7,283', 'Avg. application rate', '3-room: 1.6', '4-room: 5.4', '= 4.4'], ['Ghim Moh Ascent (Queenstown, Mature)', 'No. of units (3-, 4- and 5-Room)', '3-room: 196', '4-room: 671', '= 867', 'No. of applicants', '3-room: 293', '4-room: 2,919', '= 3,212', 'Avg. application rate', '3-room: 1.5', '4-room: 4.4', '= 3.7'], ['Kim Keat Heights (Toa Payoh, Mature)', 'No. of units (3-, 4- and 5-Room)', '3-room: 100', '4-room: 165', '= 265', 'No. of applicants', '3-room: 415', '4-room: 1,797', '= 2,212', 'Avg. application rate', '3-room: 4.2', '4-room: 10.9', '= 8.3']]\n",
      "13 [['Keat Hong Grange (Choa Chu Kang, Non-mature)', 'No. of units (3-, 4- and 5-Room)', '3-room: 96', '4 room: 374', '5-room: 323', '= 793', 'No. of applicants', '3-room: 220', '4-room: 733', '5-room: 919', '= 1,872', 'Avg. application rate', '3-room: 2.3', '', '', '4-room: 2.0', '5-room: 2.8', '= 2.4'], ['Jurong East Breeze (Jurong East, Non-mature)', 'No. of units (3-, 4- and 5-Room)', '3-room: 87', '4-room: 252', '= 339', 'No. of applicants', '3-room: 354', '4-room: 1,678', '= 2,032', 'Avg. application rate', '3-room: 4.1', '4-room: 6.7', '= 6.0'], ['Woodlands South Plains (Woodlands, Non-mature)', 'No. of units (3-, 4- and 5-Room)', '3-room: 87', '4-room: 268', '= 355', 'No. of applicants', '3-room: 709', '4-room: 3,131', '= 3,840', 'Avg. application rate', '3-room: 8.1', '4-room: 11.7', '= 10.8'], ['Central Weave @ AMK (Ang Mo Kio, Mature)', 'No. of units (3-, 4- and 5-Room)', '4-room: 398', '5-room/3Gen: 372', '= 770', 'No. of applicants', '4-room: 5,033', '5-room/3Gen: 6,513', '= 11,546', 'Avg. application rate', '4-room: 12.6', '5-room/3Gen: 17.5', '= 15.0'], ['Alexandra Vale / Havelock Hillside (Bukit Merah, Mature)', 'No. of units (3-, 4- and 5-Room)', '3-room: 353', '4-room: 1,298', '= 1,651', 'No. of applicants', '3-room: 967', '4-room: 7,916', '= 8,883', 'Avg. application rate', '3-room: 2.7', '4-room: 6.1', '= 5.4']]\n",
      "14 [['West Glades @ Bukit Batok (Bukit Batok, Non-mature)', 'No. of units (3-, 4- and 5-Room)3-room: 84', '', '4 room: 207', '', '5-room: 168', '', '', '', '= 459', 'No. of applicants3-room: 171', '', '4-room: 511', '', '5-room: 597', '', '', '', '= 1,279', 'Avg. application rate3-room: 2.0', '', '4-room: 2.5', '', '5-room: 3.6', '', '', '', '= 2.8'], ['Garden Waterfront I @ Tengah / Garden Waterfront II @ Tengah (Tengah, Non-mature)', 'No. of units (3-, 4- and 5-Room)3-room: 89', '', '4-room: 740', '', '5-room: 670', '', '', '', '= 1,499', 'No. of applicants3-room: 326', '', '4-room: 1,933', '', '5-room: 2,849', '', '', '', '= 5,108', 'Avg. application rate3-room: 3.7', '', '4-room: 2.6', '', '5-room: 4.3', '', '', '', '= 3.4'], ['Miltonia Breeze @ Yishun / Vanda Breeze @ Yishun / Aranda Breeze @ Yishun (Yishun, Non-mature)', 'No. of units (3-, 4- and 5-Room)3-room: 91', '', '4-room: 917', '', '5-room: 795', '', '', '', '= 1,803', 'No. of applicants3-room: 383', '', '4-room: 1,422', '', '5-room: 1,410', '', '', '', '= 3,215', 'Avg. application rate3-room: 4.2', '', '4-room: 1.6', '', '5-room: 1.8', '', '', '', '= 1.8'], ['Kallang Horizon (Kallang Whampoa, Non-mature)', 'No. of units (3-, 4- and 5-Room)3-room: 72', '', '4-room: 405', '', '', '', '= 477', 'No. of applicants3-room: 550', '', '4-room: 4,561', '', '', '', '= 5,111', 'Avg. application rate3-room: 7.6', '', '4-room: 11.3', '', '', '', '= 10.7'], ['Ghim Moh Natura / Queensway Canopy / Ulu Pandan Banks (Queenstown, Non-mature)', 'No. of units (3-, 4- and 5-Room)3-room: 587', '', '4-room: 2,443', '', '', '', '= 3,030', 'No. of applicants3-room: 557', '', '4-room: 5,652', '', '', '', '= 6,209', 'Avg. application rate3-room: 0.9', '', '4-room: 2.3', '', '', '', '= 2.0']]\n",
      "15 [['Jurong West Crystal (Jurong West, Non-mature)', 'No. of units (3-, 4- and 5-room)3-room: 85', '', '4-room: 186', '', '', '', '= 271', 'No. of applicants3-room: 242', '', '4-room: 567', '', '', '', '= 809', 'Avg. application rate3-room: 2.8', '', '4-room: 3.0', '', '', '', '= 3.0'], ['Brickland Weave (Tengah, Non-mature)', 'No. of units (3-, 4- and 5-room)3-room: 95', '', '4-room: 597', '', '5-room: 526', '', '', '', '= 1,218', 'No. of applicants3-room: 404', '', '4-room: 1,334', '', '5-room: 1,680', '', '', '', '= 3,418', 'Avg. application rate3-room: 4.3', '', '4-room: 2.2', '', '5-room: 3.2', '', '', '', '= 2.8'], ['Farrer Park Fields / Rajah Summit (Kallang/Whampoa, Mature)', 'No. of units (3-, 4- and 5-room)3-room: 184', '', '4-room: 1,422', '', '', '', '= 1,606', 'No. of applicants3-room: 673', '', '4-room: 6,857', '', '', '', '= 7,530', 'Avg. application rate3-room: 3.7', '', '4-room: 4.8', '', '', '', '= 4.6'], ['Ulu Pandan Glades (Queenstown, Mature)', 'No. of units (3-, 4- and 5-room)3-room: 160', '', '4-room: 572', '', '', '', '= 732', 'No. of applicants3-room: 231', '', '4-room: 2,531', '', '', '', '= 2,762', 'Avg. application rate3-room: 1.4', '', '4-room: 4.4', '', '', '', '= 3.8']]\n",
      "16 [['Bedok South Blossoms (Bedok, mature)', 'No. of units (3-room, 4-room, and 5-room/3Gen)3-room: 120', '', '4-room: 766', '', '5-room/3Gen: 610', '', '', '', '= 1,496', 'Number of applicants3-room: 535', '', '4-room: 2,823', '', '5-room/3Gen: 3,189', '', '', '', '= 6,547', 'Average application rate3-room: 4.46', '', '4-room: 3.69', '', '5-room/3Gen: 5.23', '', '', '', '= 4.38'], ['Farrer Park Arena (Kallang/Whampoa, mature)', 'No. of units (3-room, 4-room, and 5-room/3Gen)3-room: 92', '', '4-room: 477', '', '', '', '= 569', 'Number of applicants3-room: 193', '', '4-room: 1,838', '', '', '', '= 2,031', 'Average application rate3-room: 2.1', '', '4-room: 3.9', '', '', '', '=3.6'], ['Plantation Weave and Parc Meadow @ Tengah (Tengah, non-mature)', 'No. of units (3-room, 4-room, and 5-room/3Gen)3-room: 170', '', '4-room: 1,168', '', '5-room: 990', '', '', '', '= 2,328', 'Number of applicants3-room: 395', '', '4-room: 1,981', '', '5-room: 2,909', '', '', '', '= 5,285', 'Average application rate3-room: 2.3', '', '4-room: 1.7', '', '5-room: 1.9', '', '', '', '= 2.3'], ['Serangoon North Vista (Serangoon, mature)', 'No. of units (3-room, 4-room, and 5-room/3Gen)4-room: 201', '', '5-room: 129', '', '', '', '= 330', 'Number of applicants4-room: 2,238', '', '5-room: 2,525', '', '', '', '= 4,763', 'Average application rate4-room: 11.1', '', '5-room: 19.6', '', '', '', '= 14.4']]\n",
      "17 [['Rail Green I and II @ CCK (Choa Chu Kang, non-mature)', 'Number of units (3-room, 4-room, and 5-room/3Gen)3-room: 152', '', '4-room: 808', '', '5-room: 544', '', '', '', '= 1,504', 'Number of applicants3-room: 159', '', '4-room: 970', '', '5-room: 1,336', '', '', '', '= 2,465', 'Average application rate3-room: 1.0', '', '4-room: 1.2', '', '5-room: 2.5', '', '', '', '= 1.6'], ['Plantation Edge I and II (Tengah, non-mature)', 'Number of units (3-room, 4-room, and 5-room/3Gen)3-room: 81', '', '4-room: 353', '', '5-room: 313', '', '', '', '= 747', 'Number of applicants3-room: 154', '', '4-room: 624', '', '5-room: 971', '', '', '', '= 1,749', 'Average application rate3-room: 1.9', '', '4-room: 1.8', '', '5-room: 3.1', '', '', '', '= 2.3'], ['Tenteram Vantage, Rajah Residences, and Verandah @ Kallang (Kallang/Whampoa, mature)', 'Number of units (3-room, 4-room, and 5-room/3Gen)3-room: 198', '', '4-room: 2,452', '', '', '', '= 2,650', 'Number of applicants3-room: 246', '', '4-room: 3,466', '', '', '', '= 3,712', 'Average application rate3-room: 1.2', '', '4-room: 1.4', '', '', '', '= 1.4'], ['Tanglin Halt Cascadia (Queenstown, mature)', 'Number of units (3-room, 4-room, and 5-room/3Gen)3-room: 155', '', '4-room: 818', '', '', '', '= 973', 'Number of applicants3-room: 85', '', '4-room: 1,108', '', '', '', '= 1,193', 'Average application rate3-room: 0.5', '', '4-room: 1.4', '', '', '', '= 1.2']]\n",
      "18 [['Rail Garden @ CCK (Choa Chu Kang, non-mature)', 'Number of units (3-room, 4-room, and 5-room/3Gen) 3-room: 101', '', '4-room: 224', '', '', '', '= 325', 'Number of applicants 3-room: 127', '', '4-room: 459', '', '', '', '= 586', 'Average application rate 3-room: 1.26', '', '4-room: 2.05', '', '', '', '= 1.81'], ['Tanjong Tree Residences @ Hougang (Hougang, non-mature)', 'Number of units (3-room, 4-room, and 5-room/3Gen) 3-room: 84', '', '4-room: 122', '', '', '', '= 206', 'Number of applicants 3-room: 149', '', '4-room: 686', '', '', '', '= 835', 'Average application rate 3-room: 1.77', '', '4-room: 5.62', '', '', '', '= 4.05'], ['Matilda Riverside (Punggol, non-mature)', 'Number of units (3-room, 4-room, and 5-room/3Gen) 3-room: 112', '', '4-room: 358', '', '5-room: 221', '', '', '', '= 691', 'Number of applicants 3-room: 164', '', '4-room: 725', '', '5-room: 634', '', '', '', '= 1,523', 'Average application rate 3-room: 1.46', '', '4-room: 2.03', '', '5-room: 2.87', '', '', '', '= 2.20'], ['Woodgrove Edge (Woodlands, non-mature)', 'Number of units (3-room, 4-room, and 5-room/3Gen) 3-room: 88', '', '4-room: 341', '', '5-room: 324', '', '', '', '= 753', 'Number of applicants 3-room: 171', '', '4-room: 713', '', '5-room: 891', '', '', '', '= 1,675', 'Average application rate 3-room: 1.94', '', '4-room: 2.09', '', '5-room: 2.75', '', '', '', '= 2.22'], ['Bedok South Bloom / Bedok North Springs (Bedok, mature)', 'Number of units (3-room, 4-room, and 5-room/3Gen) 4-room: 499', '', '5-room: 135', '', '', '', '= 634', 'Number of applicants 4-room: 1494', '', '5-room: 715', '', '', '', '= 2,209', 'Average application rate 4-room: 2.99', '', '5-room: 5.30', '', '', '', '= 3.48'], ['Tanglin Halt Courtyard (Queenstown, mature)', 'Number of units (3-room, 4-room, and 5-room/3Gen) 4-room: 175', 'Number of applicants 4-room: 1,160', 'Average application rate 4-room: 6.63']]\n",
      "19 [['Teban Breeze (Jurong East, non-mature)', 'Number of units (3-room, 4-room, and 5-room/3Gen) 3-room: 111', '', '4-room: 444', '', '5-room: 234', '', '', '', '= 789', 'Number of applicants 3-room: 180', '', '4-room: 853', '', '5-room: 889', '', '', '', '=1,922', 'Average application rate 3-room: 1.62', '', '4-room: 1.92', '', '5-room: 3.79', '', '', '', '= 2.43'], ['Marsiling Peak I and Marsiling Peak II (Woodlands, non-mature)', 'Number of units (3-room, 4-room, and 5-room/3Gen) 3-room: 181', '', '4-room: 429', '', '5-room / 3Gen: 393', '', '', '', '= 1,003', 'Number of applicants 3-room: 255', '', '4-room: 581', '', '5-room / 3Gen: 406', '', '', '', '=1,242', 'Average application rate 3-room: 1.4', '', '4-room: 1.35', '', '5-room / 3Gen: 1.03', '', '', '', '= 1.23'], ['Chencharu Hills (Yishun, non-mature)', 'Number of units (3-room, 4-room, and 5-room/3Gen) 3-room: 82', '', '4-room: 420', '', '5-room: 390', '', '', '', '= 892', 'Number of applicants 3-room: 305', '', '4-room: 1,385', '', '5-room: 1,609', '', '', '', '= 3,299', 'Average application rate 3-room: 3.72', '', '4-room: 3.29', '', '5-room: 4.13', '', '', '', '= 3.69'], ['Tanjong Rhu Riverfront I and Tanjong Rhu Riverfront II (Kallang Whampoa, mature)', 'Number of units (3-room, 4-room, and 5-room/3Gen) 3-room: 197', '', '4-room: 1,296', '', '', '', '= 1,493', '', 'Number of applicants 3-room: 390', '', '4-room: 3,963', '', '', '', '= 4,353', 'Average application rate 3-room: 1.98', '', '4-room: 3.06', '', '', '', '= 2.92'], ['Holland Vista (Queenstown, mature)', 'Number of units (3-room, 4-room, and 5-room/3Gen) 4-room: 228', '', 'Number of applicants 4-room: 2,233', 'Average application rate 4-room: 9.79'], ['Tampines GreenTopaz (Tampines, mature)', 'Number of units (3-room, 4-room, and 5-room/3Gen) 4-room: 214', '', '5-room: 174', '', '', '', '= 388', 'Number of applicants 4-room: 2,288', '', '5-room: 2,276', '', '', '', '= 4,564', 'Average application rate 4-room: 10.7', '', '5-room: 13.08', '', '', '', '= 11.76']]\n"
     ]
    }
   ],
   "source": [
    "for x in range(4,20):\n",
    "\n",
    "    xpath = f'//*[@id=\"__next\"]/main/div[1]/div[4]/div[1]/article/div[1]/figure[{x}]/div'\n",
    "\n",
    "    element = driver.find_element(By.XPATH, xpath)\n",
    "    text_body = element.text\n",
    "    result = separate_by_mature(text_body.split('\\n'))\n",
    "    print(x, result)\n",
    "\n",
    "    for i in result:\n",
    "        \n",
    "        project_details,project_dict = extract_relevant (i)\n",
    "        if project_details == 0:\n",
    "            continue\n",
    "        for j in project_dict:\n",
    "            if j == 0:\n",
    "                continue\n",
    "            df = pd.concat([df, pd.DataFrame(\n",
    "                {'Project': [project_details[0]],\n",
    "                'Town': [project_details[1][0]] if len(project_details[1]) > 1 else '',\n",
    "                'Category': [project_details[1][1]] if len(project_details[1]) > 1 else project_details[1][0],\n",
    "                'Number of Rooms': [j],\n",
    "                'Num of Units': (project_dict[j][0]),\n",
    "                'Number of Applications': [project_dict[j][1]]\n",
    "                })],\n",
    "                ignore_index=True)"
   ]
  },
  {
   "cell_type": "code",
   "execution_count": 205,
   "metadata": {},
   "outputs": [
    {
     "data": {
      "text/plain": [
       "(None, {3: [120, 535], 4: [766, 2823], 5: [610, 3189]})"
      ]
     },
     "execution_count": 205,
     "metadata": {},
     "output_type": "execute_result"
    }
   ],
   "source": [
    "extract_relevant(result[0])"
   ]
  },
  {
   "cell_type": "code",
   "execution_count": 165,
   "metadata": {},
   "outputs": [
    {
     "data": {
      "text/plain": [
       "(4, 290)"
      ]
     },
     "execution_count": 165,
     "metadata": {},
     "output_type": "execute_result"
    }
   ],
   "source": [
    "extract_data(result[0][3])"
   ]
  },
  {
   "cell_type": "code",
   "execution_count": 196,
   "metadata": {},
   "outputs": [
    {
     "data": {
      "text/plain": [
       "['Lakeside View (Jurong West, Non-mature',\n",
       " 'No. of units (3-, 4- and 5-Room)',\n",
       " '3-room: 101',\n",
       " '4 room: 246',\n",
       " '5-room: 214',\n",
       " '= 561',\n",
       " 'No. of applicants',\n",
       " '3-room: 446',\n",
       " '4-room: 1,827',\n",
       " '5 room: 3,294',\n",
       " '= 5,567',\n",
       " 'Avg. application rate',\n",
       " '3-room: 4.4',\n",
       " '4-room: 7.4',\n",
       " '5-room: 15.4',\n",
       " '= 9.9']"
      ]
     },
     "execution_count": 196,
     "metadata": {},
     "output_type": "execute_result"
    }
   ],
   "source": [
    "result[0]"
   ]
  },
  {
   "cell_type": "code",
   "execution_count": 210,
   "metadata": {},
   "outputs": [],
   "source": [
    "df.to_csv('BTO_2020_2024.csv', index=False)"
   ]
  },
  {
   "cell_type": "code",
   "execution_count": null,
   "metadata": {},
   "outputs": [],
   "source": [
    "driver.quit()"
   ]
  }
 ],
 "metadata": {
  "kernelspec": {
   "display_name": "base",
   "language": "python",
   "name": "python3"
  },
  "language_info": {
   "codemirror_mode": {
    "name": "ipython",
    "version": 3
   },
   "file_extension": ".py",
   "mimetype": "text/x-python",
   "name": "python",
   "nbconvert_exporter": "python",
   "pygments_lexer": "ipython3",
   "version": "3.9.13"
  }
 },
 "nbformat": 4,
 "nbformat_minor": 2
}
